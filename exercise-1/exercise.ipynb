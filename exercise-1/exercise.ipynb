{
 "cells": [
  {
   "cell_type": "markdown",
   "metadata": {},
   "source": [
    "# Exercise 1\n",
    "Add the specified code for each code cell, running the cells _in order_."
   ]
  },
  {
   "cell_type": "markdown",
   "metadata": {},
   "source": [
    "Create a variable `num` that contains a random number between 1 and 20 (use the [random.randint()](https://docs.python.org/3/library/random.html#random.randint) function). Print the number."
   ]
  },
  {
   "cell_type": "code",
   "execution_count": 2,
   "metadata": {},
   "outputs": [],
   "source": [
    "import random\n",
    "num=random.randint(1,20)"
   ]
  },
  {
   "cell_type": "markdown",
   "metadata": {},
   "source": [
    "Write a boolean expression that represents whether or not `num` is equal to 12."
   ]
  },
  {
   "cell_type": "code",
   "execution_count": 3,
   "metadata": {},
   "outputs": [
    {
     "data": {
      "text/plain": [
       "False"
      ]
     },
     "execution_count": 3,
     "metadata": {},
     "output_type": "execute_result"
    }
   ],
   "source": [
    "num == 12"
   ]
  },
  {
   "cell_type": "markdown",
   "metadata": {},
   "source": [
    "Write a boolean expression that represents whether `num` is either less than 5 or greater than 15. (Note that in programming, we always assume \"strictly greater/less than\" unless otherwis specified)."
   ]
  },
  {
   "cell_type": "code",
   "execution_count": 4,
   "metadata": {},
   "outputs": [
    {
     "data": {
      "text/plain": [
       "False"
      ]
     },
     "execution_count": 4,
     "metadata": {},
     "output_type": "execute_result"
    }
   ],
   "source": [
    "num <5 or num > 15"
   ]
  },
  {
   "cell_type": "markdown",
   "metadata": {},
   "source": [
    "Write a boolean expression that represents whether `num` is between 3 and 18 (inclusive), but is _not_ equal to 11. (You can temporarily assign a non-random value to `num` to test this)."
   ]
  },
  {
   "cell_type": "code",
   "execution_count": 7,
   "metadata": {},
   "outputs": [
    {
     "data": {
      "text/plain": [
       "False"
      ]
     },
     "execution_count": 7,
     "metadata": {},
     "output_type": "execute_result"
    }
   ],
   "source": [
    "num =11\n",
    "(3 <=num <= 18) and num != 11"
   ]
  },
  {
   "cell_type": "markdown",
   "metadata": {},
   "source": [
    "_Re-run the above cells multiple times to confirm that the logic holds for different random numbers!_"
   ]
  },
  {
   "cell_type": "markdown",
   "metadata": {},
   "source": [
    "Write a boolean expression that represents whether `5.1 - 2.5` is equal to `2.6`.\n",
    "- What does this tell you about the precision of _floating point_ (decimal) operations in Python? _Tip:_ try printing the value of `5.1-2.6`. (See also: https://en.wikipedia.org/wiki/Floating-point_arithmetic) \n",
    "- How might you ensure that this equality is correct?"
   ]
  },
  {
   "cell_type": "code",
   "execution_count": 12,
   "metadata": {},
   "outputs": [
    {
     "data": {
      "text/plain": [
       "2.5999999999999996"
      ]
     },
     "execution_count": 12,
     "metadata": {},
     "output_type": "execute_result"
    }
   ],
   "source": [
    "5.1-2.5 == 2.6  #Precision is more than one decimal point\n",
    "5.1-2.5\n",
    "#floating point operations are not precise\n",
    "#avoid floats (use ints)\n",
    "#round floating point values round(5.1-2.5,1)==round(2.6,1)"
   ]
  },
  {
   "cell_type": "markdown",
   "metadata": {},
   "source": [
    "Define a function `de_morgan()` that takes in two boolean values (`P` and `Q`) and _returns_ whether the [De Morgan laws](https://en.wikipedia.org/wiki/De_Morgan%27s_laws) hold for those two values. That is:\n",
    "> the negation of P **and** Q is the same as the negation of P **or** the negation of Q\n",
    "> <br>and\n",
    "> <br>the negation of P **or** Q is the same as the negation of P **and** the negation of Q\n",
    "\n",
    "Your function should return a boolean representing whether or not _both_ of these statements are true for the given `P` and `Q`. _Use parentheses to enforce order of operations!_"
   ]
  },
  {
   "cell_type": "code",
   "execution_count": 19,
   "metadata": {},
   "outputs": [],
   "source": [
    "def de_morgan( P,Q):\n",
    "    result1 = (not (P and Q)) == ((not P) or (not Q))\n",
    "    result2 = (not(P or Q)) == ((not P) and (not Q))\n",
    "    return (result1 and result2)"
   ]
  },
  {
   "cell_type": "markdown",
   "metadata": {},
   "source": [
    "Call your `de_morgan()` function for each possible value of `P` and `Q` (there are **4** possible combinations), printing the result, in order to demonstrate that these laws hold."
   ]
  },
  {
   "cell_type": "code",
   "execution_count": 22,
   "metadata": {},
   "outputs": [
    {
     "name": "stdout",
     "output_type": "stream",
     "text": [
      "True\n",
      "True\n",
      "True\n",
      "True\n"
     ]
    }
   ],
   "source": [
    "print(de_morgan(False,False))\n",
    "print(de_morgan(False,True))\n",
    "print(de_morgan(True,False))\n",
    "print(de_morgan(True,True))"
   ]
  },
  {
   "cell_type": "markdown",
   "metadata": {},
   "source": [
    "Use the built-in [input()](https://docs.python.org/3/library/functions.html#input) function to prompt the user for their favorite word.\n",
    "- This function will wait for the user to provide an input before it finished executing, and will then _return_ a string of whatever the user typed in."
   ]
  },
  {
   "cell_type": "code",
   "execution_count": 24,
   "metadata": {},
   "outputs": [
    {
     "name": "stdout",
     "output_type": "stream",
     "text": [
      "what's your favorite word ? hello\n"
     ]
    }
   ],
   "source": [
    "word = input(\"what's your favorite word ? \")"
   ]
  },
  {
   "cell_type": "markdown",
   "metadata": {},
   "source": [
    "Write a boolean expression that represents if the inputted word has more than 8 letters."
   ]
  },
  {
   "cell_type": "code",
   "execution_count": 28,
   "metadata": {},
   "outputs": [
    {
     "name": "stdout",
     "output_type": "stream",
     "text": [
      "False\n"
     ]
    }
   ],
   "source": [
    "print(greater_than_8==len(word) > 8)\n"
   ]
  },
  {
   "cell_type": "markdown",
   "metadata": {},
   "source": [
    "Use the `islower()` string method to check if the inputted word was entered with all lower-case letters."
   ]
  },
  {
   "cell_type": "code",
   "execution_count": 29,
   "metadata": {},
   "outputs": [
    {
     "name": "stdout",
     "output_type": "stream",
     "text": [
      "True\n"
     ]
    }
   ],
   "source": [
    "print(word.islower())"
   ]
  },
  {
   "cell_type": "markdown",
   "metadata": {},
   "source": [
    "Write a boolean expression that represents whether or not the word _starts with_ the letter `i` or _ends with_ the letter `n`. Use appropriate string methods. _Hint_: convert the word to a specific case (upper or lower) for the comparison."
   ]
  },
  {
   "cell_type": "code",
   "execution_count": 36,
   "metadata": {},
   "outputs": [
    {
     "name": "stdout",
     "output_type": "stream",
     "text": [
      "False\n"
     ]
    },
    {
     "data": {
      "text/plain": [
       "False"
      ]
     },
     "execution_count": 36,
     "metadata": {},
     "output_type": "execute_result"
    }
   ],
   "source": [
    "word.lower()\n",
    "print((word[0]=='i') or(word[-1]=='n'))\n",
    "word.startswith('i') or word.endswith('n')"
   ]
  },
  {
   "cell_type": "code",
   "execution_count": null,
   "metadata": {},
   "outputs": [],
   "source": []
  }
 ],
 "metadata": {
  "kernelspec": {
   "display_name": "Python 3 (ipykernel)",
   "language": "python",
   "name": "python3"
  },
  "language_info": {
   "codemirror_mode": {
    "name": "ipython",
    "version": 3
   },
   "file_extension": ".py",
   "mimetype": "text/x-python",
   "name": "python",
   "nbconvert_exporter": "python",
   "pygments_lexer": "ipython3",
   "version": "3.9.7"
  },
  "toc": {
   "colors": {
    "hover_highlight": "#DAA520",
    "running_highlight": "#FF0000",
    "selected_highlight": "#FFD700"
   },
   "moveMenuLeft": true,
   "nav_menu": {
    "height": "30px",
    "width": "252px"
   },
   "navigate_menu": true,
   "number_sections": true,
   "sideBar": true,
   "threshold": 4,
   "toc_cell": false,
   "toc_section_display": "block",
   "toc_window_display": false,
   "widenNotebook": false
  }
 },
 "nbformat": 4,
 "nbformat_minor": 2
}
