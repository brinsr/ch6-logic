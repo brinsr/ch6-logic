{
 "cells": [
  {
   "cell_type": "code",
   "execution_count": 19,
   "id": "ec197493",
   "metadata": {},
   "outputs": [],
   "source": [
    "def print_hot_or_cold(target,guess):\n",
    "    if(target == guess):\n",
    "        print(\"Got it!\")\n",
    "    elif((abs(target-guess)) <= 1):\n",
    "        print(\"Scalding hot\")\n",
    "    elif((abs(target-guess)) <= 3):\n",
    "        print(\"very warm\")\n",
    "    elif((abs(target-guess)) <= 5):\n",
    "        print(\"warm\")\n",
    "    elif((abs(target-guess)) <= 8):\n",
    "        print(\" cold\")\n",
    "    elif((abs(target-guess)) <= 13):\n",
    "        print(\"very cold\")\n",
    "    elif((abs(target-guess)) > 13):\n",
    "        print(\"icy freezing miserably cold\")\n",
    "                    \n",
    "        \n",
    "    \n",
    "\n",
    "   \n",
    "\n",
    "\n",
    "\n",
    "\n"
   ]
  },
  {
   "cell_type": "code",
   "execution_count": 20,
   "id": "f04c0e3b",
   "metadata": {},
   "outputs": [],
   "source": [
    "def guess_number(target):\n",
    "        guess = input(\"guess your number! \")\n",
    "        \n",
    "        print_hot_or_cold(target,int(guess))\n"
   ]
  },
  {
   "cell_type": "code",
   "execution_count": 28,
   "id": "c8bfe68d",
   "metadata": {},
   "outputs": [
    {
     "name": "stdout",
     "output_type": "stream",
     "text": [
      "guess your number! 20\n",
      "icy freezing miserably cold\n"
     ]
    }
   ],
   "source": [
    "guess_number(35)"
   ]
  },
  {
   "cell_type": "code",
   "execution_count": null,
   "id": "be799d2a",
   "metadata": {},
   "outputs": [],
   "source": []
  }
 ],
 "metadata": {
  "kernelspec": {
   "display_name": "Python 3 (ipykernel)",
   "language": "python",
   "name": "python3"
  },
  "language_info": {
   "codemirror_mode": {
    "name": "ipython",
    "version": 3
   },
   "file_extension": ".py",
   "mimetype": "text/x-python",
   "name": "python",
   "nbconvert_exporter": "python",
   "pygments_lexer": "ipython3",
   "version": "3.9.7"
  }
 },
 "nbformat": 4,
 "nbformat_minor": 5
}
