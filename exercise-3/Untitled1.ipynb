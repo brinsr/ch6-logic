{
 "cells": [
  {
   "cell_type": "code",
   "execution_count": 1,
   "id": "56d44ef4",
   "metadata": {},
   "outputs": [],
   "source": [
    "import script\n"
   ]
  },
  {
   "cell_type": "code",
   "execution_count": 2,
   "id": "3d52144a",
   "metadata": {},
   "outputs": [
    {
     "data": {
      "text/plain": [
       "<module 'script' from 'C:\\\\Users\\\\brind\\\\UWPython\\\\ch6-logic\\\\exercise-3\\\\script.py'>"
      ]
     },
     "execution_count": 2,
     "metadata": {},
     "output_type": "execute_result"
    }
   ],
   "source": [
    "script\n"
   ]
  },
  {
   "cell_type": "code",
   "execution_count": 4,
   "id": "fff3e8d5",
   "metadata": {},
   "outputs": [
    {
     "name": "stdout",
     "output_type": "stream",
     "text": [
      "very warm\n"
     ]
    }
   ],
   "source": [
    "script.print_hot_or_cold(10,12)\n"
   ]
  },
  {
   "cell_type": "code",
   "execution_count": null,
   "id": "7d8fcab2",
   "metadata": {},
   "outputs": [],
   "source": []
  }
 ],
 "metadata": {
  "kernelspec": {
   "display_name": "Python 3 (ipykernel)",
   "language": "python",
   "name": "python3"
  },
  "language_info": {
   "codemirror_mode": {
    "name": "ipython",
    "version": 3
   },
   "file_extension": ".py",
   "mimetype": "text/x-python",
   "name": "python",
   "nbconvert_exporter": "python",
   "pygments_lexer": "ipython3",
   "version": "3.9.7"
  }
 },
 "nbformat": 4,
 "nbformat_minor": 5
}
